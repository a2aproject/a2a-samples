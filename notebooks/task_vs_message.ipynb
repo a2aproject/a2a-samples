{
  "nbformat": 4,
  "nbformat_minor": 0,
  "metadata": {
    "colab": {
      "provenance": [],
      "toc_visible": true
    },
    "kernelspec": {
      "name": "python3",
      "display_name": "Python 3"
    },
    "language_info": {
      "name": "python"
    }
  },
  "cells": [
    {
      "cell_type": "code",
      "execution_count": 1,
      "metadata": {
        "id": "pOgV4IUUZn6B",
        "colab": {
          "base_uri": "https://localhost:8080/"
        },
        "outputId": "d0ac6f1e-c18d-4228-dd62-23d1e86907bd"
      },
      "outputs": [
        {
          "output_type": "stream",
          "name": "stdout",
          "text": [
            "\u001b[2K   \u001b[90m━━━━━━━━━━━━━━━━━━━━━━━━━━━━━━━━━━━━━━━━\u001b[0m \u001b[32m133.2/133.2 kB\u001b[0m \u001b[31m3.3 MB/s\u001b[0m eta \u001b[36m0:00:00\u001b[0m\n",
            "\u001b[2K     \u001b[90m━━━━━━━━━━━━━━━━━━━━━━━━━━━━━━━━━━━━━━━━\u001b[0m \u001b[32m68.7/68.7 kB\u001b[0m \u001b[31m1.6 MB/s\u001b[0m eta \u001b[36m0:00:00\u001b[0m\n",
            "\u001b[2K     \u001b[90m━━━━━━━━━━━━━━━━━━━━━━━━━━━━━━━━━━━━━━━━\u001b[0m \u001b[32m44.3/44.3 kB\u001b[0m \u001b[31m3.0 MB/s\u001b[0m eta \u001b[36m0:00:00\u001b[0m\n",
            "\u001b[2K   \u001b[90m━━━━━━━━━━━━━━━━━━━━━━━━━━━━━━━━━━━━━━━━\u001b[0m \u001b[32m1.8/1.8 MB\u001b[0m \u001b[31m25.6 MB/s\u001b[0m eta \u001b[36m0:00:00\u001b[0m\n",
            "\u001b[2K   \u001b[90m━━━━━━━━━━━━━━━━━━━━━━━━━━━━━━━━━━━━━━━━\u001b[0m \u001b[32m239.3/239.3 kB\u001b[0m \u001b[31m14.4 MB/s\u001b[0m eta \u001b[36m0:00:00\u001b[0m\n",
            "\u001b[2K   \u001b[90m━━━━━━━━━━━━━━━━━━━━━━━━━━━━━━━━━━━━━━━━\u001b[0m \u001b[32m218.1/218.1 kB\u001b[0m \u001b[31m16.0 MB/s\u001b[0m eta \u001b[36m0:00:00\u001b[0m\n",
            "\u001b[2K   \u001b[90m━━━━━━━━━━━━━━━━━━━━━━━━━━━━━━━━━━━━━━━━\u001b[0m \u001b[32m335.7/335.7 kB\u001b[0m \u001b[31m21.2 MB/s\u001b[0m eta \u001b[36m0:00:00\u001b[0m\n",
            "\u001b[2K   \u001b[90m━━━━━━━━━━━━━━━━━━━━━━━━━━━━━━━━━━━━━━━━\u001b[0m \u001b[32m160.2/160.2 kB\u001b[0m \u001b[31m8.5 MB/s\u001b[0m eta \u001b[36m0:00:00\u001b[0m\n",
            "\u001b[2K   \u001b[90m━━━━━━━━━━━━━━━━━━━━━━━━━━━━━━━━━━━━━━━━\u001b[0m \u001b[32m65.6/65.6 kB\u001b[0m \u001b[31m3.9 MB/s\u001b[0m eta \u001b[36m0:00:00\u001b[0m\n",
            "\u001b[2K   \u001b[90m━━━━━━━━━━━━━━━━━━━━━━━━━━━━━━━━━━━━━━━━\u001b[0m \u001b[32m120.0/120.0 kB\u001b[0m \u001b[31m7.6 MB/s\u001b[0m eta \u001b[36m0:00:00\u001b[0m\n",
            "\u001b[2K   \u001b[90m━━━━━━━━━━━━━━━━━━━━━━━━━━━━━━━━━━━━━━━━\u001b[0m \u001b[32m201.6/201.6 kB\u001b[0m \u001b[31m14.1 MB/s\u001b[0m eta \u001b[36m0:00:00\u001b[0m\n",
            "\u001b[2K   \u001b[90m━━━━━━━━━━━━━━━━━━━━━━━━━━━━━━━━━━━━━━━━\u001b[0m \u001b[32m64.8/64.8 kB\u001b[0m \u001b[31m4.2 MB/s\u001b[0m eta \u001b[36m0:00:00\u001b[0m\n",
            "\u001b[2K   \u001b[90m━━━━━━━━━━━━━━━━━━━━━━━━━━━━━━━━━━━━━━━━\u001b[0m \u001b[32m79.1/79.1 kB\u001b[0m \u001b[31m5.8 MB/s\u001b[0m eta \u001b[36m0:00:00\u001b[0m\n",
            "\u001b[2K   \u001b[90m━━━━━━━━━━━━━━━━━━━━━━━━━━━━━━━━━━━━━━━━\u001b[0m \u001b[32m229.5/229.5 kB\u001b[0m \u001b[31m16.1 MB/s\u001b[0m eta \u001b[36m0:00:00\u001b[0m\n",
            "\u001b[2K   \u001b[90m━━━━━━━━━━━━━━━━━━━━━━━━━━━━━━━━━━━━━━━━\u001b[0m \u001b[32m103.8/103.8 kB\u001b[0m \u001b[31m7.5 MB/s\u001b[0m eta \u001b[36m0:00:00\u001b[0m\n",
            "\u001b[2K   \u001b[90m━━━━━━━━━━━━━━━━━━━━━━━━━━━━━━━━━━━━━━━━\u001b[0m \u001b[32m45.2/45.2 kB\u001b[0m \u001b[31m3.0 MB/s\u001b[0m eta \u001b[36m0:00:00\u001b[0m\n",
            "\u001b[?25h\u001b[31mERROR: pip's dependency resolver does not currently take into account all the packages that are installed. This behaviour is the source of the following dependency conflicts.\n",
            "google-colab 1.0.0 requires requests==2.32.3, but you have requests 2.32.4 which is incompatible.\u001b[0m\u001b[31m\n",
            "\u001b[0m"
          ]
        }
      ],
      "source": [
        "%pip install google-cloud-aiplatform httpx \"a2a-sdk\" --quiet\n",
        "%pip install --upgrade --quiet  \"google-adk\""
      ]
    },
    {
      "cell_type": "code",
      "source": [
        "PROJECT_ID = \"bap-labs-agent-demo\"\n",
        "LOCATION = \"us-central1\"\n",
        "BUCKET = \"swapnil_bap_labs_bucket\"\n",
        "MODEL = \"gemini-2.5-flash\""
      ],
      "metadata": {
        "id": "M_qUEbg8cRiE"
      },
      "execution_count": 16,
      "outputs": []
    },
    {
      "cell_type": "code",
      "source": [
        "from google.colab import auth\n",
        "\n",
        "try:\n",
        "    auth.authenticate_user()\n",
        "    print('Colab user authenticated.')\n",
        "except Exception as e:\n",
        "    print(\n",
        "        f'Not in a Colab environment or auth failed: {e}. Assuming local gcloud auth.'\n",
        "    )"
      ],
      "metadata": {
        "colab": {
          "base_uri": "https://localhost:8080/"
        },
        "id": "QWE4yt7KN-pL",
        "outputId": "8dae75ca-dc85-46a9-8d35-db2203ad3a52"
      },
      "execution_count": 17,
      "outputs": [
        {
          "output_type": "stream",
          "name": "stdout",
          "text": [
            "Colab user authenticated.\n"
          ]
        }
      ]
    },
    {
      "cell_type": "code",
      "source": [
        "import json\n",
        "import uuid\n",
        "import pprint\n",
        "\n",
        "from collections.abc import AsyncIterable\n",
        "from typing import Any, Optional\n",
        "\n",
        "from a2a.server.agent_execution import AgentExecutor, RequestContext\n",
        "from a2a.server.apps import A2AStarletteApplication\n",
        "from a2a.server.events import EventQueue\n",
        "\n",
        "from pydantic import BaseModel\n",
        "from enum import Enum\n",
        "\n",
        "from a2a.types import (\n",
        "    Part,\n",
        "    Task,\n",
        "    TaskState,\n",
        "    TextPart,\n",
        "    MessageSendParams,\n",
        "    Role,\n",
        "    Message,\n",
        ")\n",
        "\n",
        "from a2a.utils import (\n",
        "    new_agent_parts_message,\n",
        "    new_agent_text_message,\n",
        "    new_task,\n",
        ")\n",
        "\n",
        "from a2a.server.request_handlers.default_request_handler import (\n",
        "    DefaultRequestHandler,\n",
        ")\n",
        "from a2a.server.tasks import InMemoryTaskStore, TaskUpdater\n",
        "\n",
        "from a2a.utils.errors import MethodNotImplementedError\n",
        "\n",
        "# Build agent with adk\n",
        "from google.adk.events import Event\n",
        "from google.adk.runners import Runner\n",
        "from google.adk.sessions import InMemorySessionService\n",
        "from google.adk.tools.tool_context import ToolContext\n",
        "from google.adk.agents.llm_agent import LlmAgent\n",
        "\n",
        "# Evaluate agent\n",
        "from google.cloud import aiplatform\n",
        "from google.genai import types\n",
        "\n",
        "pp = pprint.PrettyPrinter(indent=4, width=120)"
      ],
      "metadata": {
        "id": "gh7mAZrnQ1PY"
      },
      "execution_count": 13,
      "outputs": []
    },
    {
      "cell_type": "code",
      "source": [
        "import os\n",
        "\n",
        "if not PROJECT_ID:\n",
        "    raise ValueError('Please set your PROJECT_ID.')\n",
        "os.environ['GOOGLE_CLOUD_PROJECT'] = PROJECT_ID\n",
        "os.environ['GOOGLE_CLOUD_LOCATION'] = LOCATION\n",
        "os.environ['GOOGLE_GENAI_USE_VERTEXAI'] = 'True'\n",
        "\n",
        "aiplatform.init(project=PROJECT_ID, location=LOCATION)"
      ],
      "metadata": {
        "id": "GpNakpiRibH4"
      },
      "execution_count": null,
      "outputs": []
    },
    {
      "cell_type": "code",
      "source": [
        "class RouterActionType(str, Enum):\n",
        "    NONE = \"NONE\"\n",
        "    BOOK_FLIGHT = \"BOOK_FLIGHT\"\n",
        "    BOOK_HOTEL = \"BOOK_HOTEL\"\n",
        "\n",
        "class RouterOutput(BaseModel):\n",
        "  message: str\n",
        "  next_step: RouterActionType\n",
        "  next_step_input: Optional[str] = None"
      ],
      "metadata": {
        "id": "RWg_66pBXt0R"
      },
      "execution_count": 6,
      "outputs": []
    },
    {
      "cell_type": "code",
      "source": [
        "class RouterAgent:\n",
        "    \"\"\"An agent that determines whether to call internal API vs chit-chat\"\"\"\n",
        "\n",
        "    def __init__(self) -> None:\n",
        "        self._agent = self._build_agent()\n",
        "        self._user_id = 'remote_agent'\n",
        "        self._runner = Runner(\n",
        "            app_name=self._agent.name,\n",
        "            agent=self._agent,\n",
        "            session_service=InMemorySessionService(),\n",
        "        )\n",
        "\n",
        "    def _build_agent(self) -> LlmAgent:\n",
        "        \"\"\"Builds the LLM agent for the router agent.\"\"\"\n",
        "        return LlmAgent(\n",
        "            model='gemini-2.5-flash',\n",
        "            name='router_agent',\n",
        "            output_schema=RouterOutput,\n",
        "            instruction=\"\"\"\n",
        "    You are an agent who reponds to user queries on behalf of a booking company. The booking company can book flights, hotels & cars rentals.\n",
        "\n",
        "    Based on user query, you need to suggest next step. Follow below guidelines to choose below next step:\n",
        "    - BOOK_FLIGHT: If the user shows intent to book a flight.\n",
        "    - BOOK_HOTEL: If the user shows intent to book a hotel.\n",
        "    - Otherwise the next step is NONE.\n",
        "\n",
        "    Your reponses should be in JSON in below schema:\n",
        "    {{\n",
        "    \"next_step\": \"NONE | BOOK_FLIGHT | BOOK_HOTEL\",\n",
        "    \"next_step_input\": \"Optional. Not needed in case of next step is NONE. Relevant info from user converstaion required for the selceted next step.\",\n",
        "    \"message\": \"A user visible message, based on the suggested next step. Assume the suggested next step would be auto executed.\"\n",
        "    }}\n",
        "\n",
        "    \"\"\",\n",
        "        )\n",
        "\n",
        "    async def run(self, query, session_id) -> RouterOutput:\n",
        "        session = await self._runner.session_service.get_session(\n",
        "            app_name=self._agent.name,\n",
        "            user_id=self._user_id,\n",
        "            session_id=session_id,\n",
        "        )\n",
        "        content = types.Content(\n",
        "            role='user', parts=[types.Part.from_text(text=query)]\n",
        "        )\n",
        "        if session is None:\n",
        "            session = await self._runner.session_service.create_session(\n",
        "                app_name=self._agent.name,\n",
        "                user_id=self._user_id,\n",
        "                state={},\n",
        "                session_id=session_id,\n",
        "            )\n",
        "        async for event in self._runner.run_async(\n",
        "            user_id=self._user_id, session_id=session.id, new_message=content\n",
        "        ):\n",
        "            if event.is_final_response():\n",
        "                response = ''\n",
        "                if (\n",
        "                    event.content\n",
        "                    and event.content.parts\n",
        "                    and event.content.parts[0].text\n",
        "                ):\n",
        "                    response = '\\n'.join(\n",
        "                        [p.text for p in event.content.parts if p.text]\n",
        "                    )\n",
        "                return RouterOutput.model_validate_json(response)\n",
        "\n",
        "        raise Exception(\"Router failed\")\n",
        "\n",
        "\n"
      ],
      "metadata": {
        "id": "S4uV6pzLWDbq"
      },
      "execution_count": 14,
      "outputs": []
    },
    {
      "cell_type": "code",
      "source": [
        "my_agent = RouterAgent()\n",
        "\n",
        "async def run(query: str):\n",
        "    resp = await my_agent.run(query, str(uuid.uuid4()))\n",
        "    pp.pprint(resp)\n",
        "\n",
        "await run(\"what can you do\")\n",
        "await run(\"Book a flight from NY to SF\")"
      ],
      "metadata": {
        "colab": {
          "base_uri": "https://localhost:8080/"
        },
        "id": "gchfa202WXIT",
        "outputId": "f737bc75-ef57-4a66-e104-05494cf46ef6"
      },
      "execution_count": 18,
      "outputs": [
        {
          "output_type": "stream",
          "name": "stderr",
          "text": [
            "WARNING:google_adk.google.adk.agents.llm_agent:Invalid config for agent router_agent: output_schema cannot co-exist with agent transfer configurations. Setting disallow_transfer_to_parent=True, disallow_transfer_to_peers=True\n"
          ]
        },
        {
          "output_type": "stream",
          "name": "stdout",
          "text": [
            "RouterOutput(message='I can help you book flights, hotels, and car rentals.', next_step=<RouterActionType.NONE: 'NONE'>, next_step_input=None)\n",
            "RouterOutput(message='Booking a flight from NY to SF.', next_step=<RouterActionType.BOOK_FLIGHT: 'BOOK_FLIGHT'>, next_step_input='from NY to SF')\n"
          ]
        }
      ]
    },
    {
      "cell_type": "code",
      "source": [
        "class BookingAgentExecutor(AgentExecutor):\n",
        "    \"\"\"Reimbursement AgentExecutor Example.\"\"\"\n",
        "\n",
        "    def __init__(self) -> None:\n",
        "        self.router_agent = RouterAgent()\n",
        "\n",
        "    async def execute(\n",
        "        self,\n",
        "        context: RequestContext,\n",
        "        event_queue: EventQueue,\n",
        "    ) -> None:\n",
        "        query = context.get_user_input()\n",
        "        task = context.current_task\n",
        "\n",
        "        router_output = await self.router_agent.run(query, str(uuid.uuid4()))\n",
        "\n",
        "        if router_output.next_step == RouterActionType.NONE:\n",
        "            await event_queue.enqueue_event(new_agent_text_message(router_output.message, context_id=context.context_id))\n",
        "            return\n",
        "\n",
        "        # Time to create a task.\n",
        "        if not task:\n",
        "            task = new_task(context.message)\n",
        "            await event_queue.enqueue_event(task)\n",
        "\n",
        "        updater = TaskUpdater(event_queue, task.id, task.context_id)\n",
        "        await updater.update_status(\n",
        "            TaskState.working,\n",
        "            new_agent_text_message(router_output.message, context_id=context.context_id)\n",
        "        )\n",
        "\n",
        "        booking_response = ''\n",
        "\n",
        "        if router_output.next_step == RouterActionType.BOOK_FLIGHT:\n",
        "            booking_response = await self.book_flight()\n",
        "        elif router_output.next_step == RouterActionType.BOOK_HOTEL:\n",
        "            booking_response = await self.book_hotel()\n",
        "\n",
        "        await updater.add_artifact(\n",
        "            [Part(root=TextPart(text=booking_response))], name='Booking ID'\n",
        "        )\n",
        "        await updater.complete()\n",
        "\n",
        "    async def book_flight(self) -> str:\n",
        "        return \"PNR: FY1234\"\n",
        "\n",
        "    async def book_hotel(self) -> str:\n",
        "        return \"Hotel Reference No: H789\"\n",
        "\n",
        "    async def cancel(\n",
        "        self, request: RequestContext, event_queue: EventQueue\n",
        "    ) -> Task | None:\n",
        "        raise MethodNotImplementedError(\n",
        "            'ReimbursementAgentExecutor does not support cancel operation.'\n",
        "        )"
      ],
      "metadata": {
        "id": "x_mc6aG1QrrU"
      },
      "execution_count": 105,
      "outputs": []
    },
    {
      "cell_type": "code",
      "source": [
        "request_handler = DefaultRequestHandler(\n",
        "    agent_executor=BookingAgentExecutor(),\n",
        "    task_store=InMemoryTaskStore(),\n",
        ")"
      ],
      "metadata": {
        "colab": {
          "base_uri": "https://localhost:8080/"
        },
        "id": "M8XfszQ-R9WY",
        "outputId": "12a3cb2a-6136-4f8e-fc4f-8f5341f42a7d"
      },
      "execution_count": 106,
      "outputs": [
        {
          "output_type": "stream",
          "name": "stderr",
          "text": [
            "WARNING:google_adk.google.adk.agents.llm_agent:Invalid config for agent router_agent: output_schema cannot co-exist with agent transfer configurations. Setting disallow_transfer_to_parent=True, disallow_transfer_to_peers=True\n"
          ]
        }
      ]
    },
    {
      "cell_type": "code",
      "source": [
        "async def send_message(query: str = \"hi\"):\n",
        "    task_id = None\n",
        "    context_id = None\n",
        "\n",
        "    user_message = Message(\n",
        "        role=Role.user,\n",
        "        parts=[Part(root=TextPart(text=query))],\n",
        "        message_id=str(uuid.uuid4()),\n",
        "        task_id=task_id,\n",
        "        context_id=context_id,\n",
        "    )\n",
        "    params=MessageSendParams(\n",
        "        message=user_message\n",
        "    )\n",
        "    response_stream = request_handler.on_message_send_stream(params=params)\n",
        "\n",
        "    async for ev in response_stream:\n",
        "        pp.pprint(ev.model_dump())"
      ],
      "metadata": {
        "id": "_IOA3tn0SPIR"
      },
      "execution_count": 107,
      "outputs": []
    },
    {
      "cell_type": "code",
      "source": [
        "await send_message(\"hey, could you help book my trip\")"
      ],
      "metadata": {
        "colab": {
          "base_uri": "https://localhost:8080/"
        },
        "id": "FqDfuihcVNLl",
        "outputId": "450aac35-d5cc-485d-a50a-ba2d00cf36dc"
      },
      "execution_count": 110,
      "outputs": [
        {
          "output_type": "stream",
          "name": "stdout",
          "text": [
            "{   'contextId': '2bc1d24b-136d-4437-9f82-f09fdc32ecec',\n",
            "    'extensions': None,\n",
            "    'kind': 'message',\n",
            "    'messageId': 'c66dec49-244a-4705-a3fd-f34c33c125fd',\n",
            "    'metadata': None,\n",
            "    'parts': [   {   'kind': 'text',\n",
            "                     'metadata': None,\n",
            "                     'text': 'I can help you with that! Are you looking to book a flight, a hotel, or perhaps a car '\n",
            "                             'rental?'}],\n",
            "    'referenceTaskIds': None,\n",
            "    'role': <Role.agent: 'agent'>,\n",
            "    'taskId': None}\n"
          ]
        }
      ]
    },
    {
      "cell_type": "code",
      "source": [
        "await send_message(\"book a flight from NY to SF\")"
      ],
      "metadata": {
        "colab": {
          "base_uri": "https://localhost:8080/"
        },
        "id": "Et4bss9Gfsf5",
        "outputId": "5360d6f6-df8f-40a3-bbc4-7e2c2e06cad6"
      },
      "execution_count": 108,
      "outputs": [
        {
          "output_type": "stream",
          "name": "stdout",
          "text": [
            "{   'artifacts': None,\n",
            "    'contextId': '6e172d3e-f1a2-45aa-9b0a-b4c3afeb76c4',\n",
            "    'history': [   {   'contextId': '6e172d3e-f1a2-45aa-9b0a-b4c3afeb76c4',\n",
            "                       'extensions': None,\n",
            "                       'kind': 'message',\n",
            "                       'messageId': 'b7f3ed40-b784-459d-b907-3e1df5745efe',\n",
            "                       'metadata': None,\n",
            "                       'parts': [{'kind': 'text', 'metadata': None, 'text': 'book a flight from NY to SF'}],\n",
            "                       'referenceTaskIds': None,\n",
            "                       'role': <Role.user: 'user'>,\n",
            "                       'taskId': 'fdc87553-a58d-4aed-90dd-c09da81d0cb2'}],\n",
            "    'id': 'fdc87553-a58d-4aed-90dd-c09da81d0cb2',\n",
            "    'kind': 'task',\n",
            "    'metadata': None,\n",
            "    'status': {'message': None, 'state': <TaskState.submitted: 'submitted'>, 'timestamp': None}}\n",
            "{   'contextId': '6e172d3e-f1a2-45aa-9b0a-b4c3afeb76c4',\n",
            "    'final': False,\n",
            "    'kind': 'status-update',\n",
            "    'metadata': None,\n",
            "    'status': {   'message': {   'contextId': '6e172d3e-f1a2-45aa-9b0a-b4c3afeb76c4',\n",
            "                                 'extensions': None,\n",
            "                                 'kind': 'message',\n",
            "                                 'messageId': '0191bc66-cd48-404b-82f2-837c6ab23edf',\n",
            "                                 'metadata': None,\n",
            "                                 'parts': [   {   'kind': 'text',\n",
            "                                                  'metadata': None,\n",
            "                                                  'text': 'OK. I am booking a flight from NY to SF for you.'}],\n",
            "                                 'referenceTaskIds': None,\n",
            "                                 'role': <Role.agent: 'agent'>,\n",
            "                                 'taskId': None},\n",
            "                  'state': <TaskState.working: 'working'>,\n",
            "                  'timestamp': '2025-08-15T20:53:08.261272+00:00'},\n",
            "    'taskId': 'fdc87553-a58d-4aed-90dd-c09da81d0cb2'}\n",
            "{   'append': None,\n",
            "    'artifact': {   'artifactId': '92257d93-1822-402c-8721-370243d16358',\n",
            "                    'description': None,\n",
            "                    'extensions': None,\n",
            "                    'metadata': None,\n",
            "                    'name': 'Booking ID',\n",
            "                    'parts': [{'kind': 'text', 'metadata': None, 'text': 'PNR: FY1234'}]},\n",
            "    'contextId': '6e172d3e-f1a2-45aa-9b0a-b4c3afeb76c4',\n",
            "    'kind': 'artifact-update',\n",
            "    'lastChunk': None,\n",
            "    'metadata': None,\n",
            "    'taskId': 'fdc87553-a58d-4aed-90dd-c09da81d0cb2'}\n",
            "{   'contextId': '6e172d3e-f1a2-45aa-9b0a-b4c3afeb76c4',\n",
            "    'final': True,\n",
            "    'kind': 'status-update',\n",
            "    'metadata': None,\n",
            "    'status': {   'message': None,\n",
            "                  'state': <TaskState.completed: 'completed'>,\n",
            "                  'timestamp': '2025-08-15T20:53:08.261389+00:00'},\n",
            "    'taskId': 'fdc87553-a58d-4aed-90dd-c09da81d0cb2'}\n"
          ]
        }
      ]
    }
  ]
}